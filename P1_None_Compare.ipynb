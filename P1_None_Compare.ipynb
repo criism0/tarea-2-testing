{
  "cells": [
    {
      "cell_type": "markdown",
      "metadata": {
        "id": "ZEphjy9oyQ5k"
      },
      "source": [
        "# Run Test Method"
      ]
    },
    {
      "cell_type": "code",
      "execution_count": 19,
      "metadata": {
        "id": "E2HDKQuyyP81"
      },
      "outputs": [],
      "source": [
        "def runTests(testClass):\n",
        "    loader = unittest.TestLoader()\n",
        "    suite = loader.loadTestsFromTestCase(testClass)\n",
        "    runner = unittest.TextTestRunner()\n",
        "    runner.run(suite)"
      ]
    },
    {
      "cell_type": "markdown",
      "metadata": {
        "id": "913c4gvrxZGF"
      },
      "source": [
        "# Modelo"
      ]
    },
    {
      "cell_type": "code",
      "execution_count": 20,
      "metadata": {
        "id": "FKrjSd6lxKlO"
      },
      "outputs": [],
      "source": [
        "from __future__ import annotations\n",
        "import ast, sys\n",
        "from dataclasses import dataclass\n",
        "from typing import List, Iterable, Tuple, Optional\n",
        "\n",
        "@dataclass(frozen=True)\n",
        "class CodeWarning:\n",
        "    message: str\n",
        "    lineno: int\n",
        "    col: int\n",
        "    end_lineno: Optional[int] = None\n",
        "    end_col: Optional[int] = None\n",
        "\n",
        "class DetectionRule:\n",
        "    name: str = \"Generic Detector\"\n",
        "    def search(self, src: str) -> List[CodeWarning]:\n",
        "        raise NotImplementedError\n",
        "\n",
        "class Patcher:\n",
        "    name: str = \"Generic Patcher\"\n",
        "    def patch(self, tree: ast.AST) -> ast.AST:\n",
        "        raise NotImplementedError\n",
        "\n",
        "class DCCLinter:\n",
        "    def __init__(self, detectors: Iterable[DetectionRule], patchers: Iterable[Patcher]):\n",
        "        self.detectors = detectors\n",
        "        self.patchers = patchers\n",
        "\n",
        "    def search(self, src: str) -> List[CodeWarning]:\n",
        "        out: List[CodeWarning] = []\n",
        "        for d in self.detectors:\n",
        "            out.extend(d.search(src))\n",
        "        return sorted(out, key=lambda w: (w.lineno, w.col))\n",
        "\n",
        "    def patch(self, src: str) -> str:\n",
        "        tree = ast.parse(src)\n",
        "        for p in self.patchers:\n",
        "          tree = p.patch(tree)\n",
        "        return ast.unparse(tree)"
      ]
    },
    {
      "cell_type": "markdown",
      "metadata": {
        "id": "ks-AFIIdxpdS"
      },
      "source": [
        "# None Compares\n",
        "\n",
        "## Detector"
      ]
    },
    {
      "cell_type": "code",
      "execution_count": 21,
      "metadata": {
        "id": "Rw5uSdokxr7x"
      },
      "outputs": [],
      "source": [
        "class NoneCompareDetectionRule(DetectionRule):\n",
        "    name = \"Detect ==/!= None\"\n",
        "\n",
        "    def search(self, src: str) -> List[CodeWarning]:\n",
        "        # Detecta comparaciones con None usando == o !=.\n",
        "        tree = ast.parse(src)\n",
        "        warnings: List[CodeWarning] = []\n",
        "        for node in ast.walk(tree):\n",
        "            if isinstance(node, ast.Compare) and node.ops and node.comparators:\n",
        "                op, comp = node.ops[0], node.comparators[0]\n",
        "                if isinstance(op, (ast.Eq, ast.NotEq)) and isinstance(comp, ast.Constant) and comp.value is None:\n",
        "                    warnings.append(CodeWarning(\"Use 'is' o 'is not' para comparaciones con None\", node.lineno, node.col_offset))\n",
        "        return warnings"
      ]
    },
    {
      "cell_type": "markdown",
      "metadata": {
        "id": "NklEm1uzxxij"
      },
      "source": [
        "## Patcher"
      ]
    },
    {
      "cell_type": "code",
      "execution_count": 22,
      "metadata": {
        "id": "T4O8O3xmxyjT"
      },
      "outputs": [],
      "source": [
        "class NodeComparisonPatcher(Patcher):\n",
        "    name: str = \"None Comparison Patcher\"\n",
        "\n",
        "    def patch(self, tree: ast.AST) -> ast.AST:\n",
        "        # Convierte ==/!= None a is/is not None.\n",
        "        for node in ast.walk(tree):\n",
        "            if isinstance(node, ast.Compare) and node.ops and node.comparators:\n",
        "                op, comp = node.ops[0], node.comparators[0]\n",
        "                if isinstance(comp, ast.Constant) and comp.value is None and isinstance(op, (ast.Eq, ast.NotEq)):\n",
        "                    node.ops[0] = ast.Is() if isinstance(op, ast.Eq) else ast.IsNot()\n",
        "        return tree"
      ]
    },
    {
      "cell_type": "markdown",
      "metadata": {
        "id": "ZUyTU0vnx_2_"
      },
      "source": [
        "## Tests"
      ]
    },
    {
      "cell_type": "code",
      "execution_count": 23,
      "metadata": {
        "id": "VquoUQmYyBgN"
      },
      "outputs": [],
      "source": [
        "import unittest\n",
        "\n",
        "class TestNoneCompare(unittest.TestCase):\n",
        "    def setUp(self):\n",
        "        self.linter = DCCLinter([NoneCompareDetectionRule()],[NodeComparisonPatcher()])\n",
        "\n",
        "    def test_search(self):\n",
        "        s = \"a=None\\nif a == None:\\n  pass\\nif a != None:\\n  pass\\n\"\n",
        "        warnings = self.linter.search(s)\n",
        "        self.assertEqual(len(warnings), 2)\n",
        "\n",
        "    def test_patch(self):\n",
        "        s = \"a=None\\nif a == None:\\n  pass\\n\"\n",
        "        out = self.linter.patch(s)\n",
        "        self.assertIn(\"if a is None:\", out)\n",
        "\n",
        "    # Tests extra\n",
        "    def test_patch_not_equal(self):\n",
        "        s = \"a=None\\nif a != None:\\n  pass\\n\"\n",
        "        out = self.linter.patch(s)\n",
        "        self.assertIn(\"if a is not None:\", out)\n",
        "\n",
        "    def test_skip_when_already_is(self):\n",
        "        s = \"a=None\\nif a is None:\\n  pass\\nif a is not None:\\n  pass\\n\"\n",
        "        warnings = self.linter.search(s)\n",
        "        self.assertEqual(len(warnings), 0)\n",
        "        out = self.linter.patch(s)\n",
        "        self.assertIn(\"if a is None:\", out)\n",
        "        self.assertIn(\"if a is not None:\", out)\n",
        "\n",
        "    def test_detect_many_occurrences(self):\n",
        "        s = (\n",
        "            \"a=None\\n\"\n",
        "            \"if a == None: pass\\n\"\n",
        "            \"while a != None: break\\n\"\n",
        "            \"xs = list(filter(lambda z: z != None, [1,None,2]))\\n\"\n",
        "        )\n",
        "        warnings = self.linter.search(s)\n",
        "        self.assertGreaterEqual(len(warnings), 3)"
      ]
    },
    {
      "cell_type": "code",
      "execution_count": 24,
      "metadata": {
        "colab": {
          "base_uri": "https://localhost:8080/"
        },
        "id": "VE9PsgiyyX08",
        "outputId": "6e9fe91c-4c9a-415d-88d2-04991382ffb8"
      },
      "outputs": [
        {
          "name": "stderr",
          "output_type": "stream",
          "text": [
            ".....\n",
            "----------------------------------------------------------------------\n",
            "Ran 5 tests in 0.004s\n",
            "\n",
            "OK\n",
            "....\n",
            "----------------------------------------------------------------------\n",
            "Ran 5 tests in 0.004s\n",
            "\n",
            "OK\n"
          ]
        }
      ],
      "source": [
        "runTests(TestNoneCompare)"
      ]
    },
    {
      "cell_type": "markdown",
      "metadata": {
        "id": "DO5kAlFxyq3z"
      },
      "source": [
        "## Real World Code"
      ]
    },
    {
      "cell_type": "code",
      "execution_count": 25,
      "metadata": {
        "id": "vtirjWsFzGU4"
      },
      "outputs": [],
      "source": [
        "def find_cell(comment):\n",
        "    \"\"\"\n",
        "    Busca la primera celda en el cuaderno actual cuya primera línea\n",
        "    comience con el comentario dado (por ejemplo, \"# Case Study 1\").\n",
        "\n",
        "    Parámetros:\n",
        "        comment (str): El comentario que se quiere buscar.\n",
        "\n",
        "    Retorna:\n",
        "        str | None: El código fuente de la celda encontrada, o None si no existe.\n",
        "    \"\"\"\n",
        "    for cell_source in In:  # `In` contiene el código fuente de todas las celdas ejecutadas\n",
        "        lines = cell_source.strip().splitlines()\n",
        "        if lines and lines[0].strip().startswith(comment):  # revisa la primera línea\n",
        "            return cell_source\n",
        "    return None"
      ]
    },
    {
      "cell_type": "code",
      "execution_count": 26,
      "metadata": {
        "id": "1WG1-4Fuy5fp"
      },
      "outputs": [],
      "source": [
        "# Case Study 1\n",
        "def find_first_even(nums):\n",
        "    if nums == None:  # bad pattern\n",
        "        return None\n",
        "    for n in nums:\n",
        "        if n % 2 == 0:\n",
        "            return n\n",
        "    return None\n",
        "\n",
        "def safe_divide(a, b):\n",
        "    if b != None and b != 0:  # bad pattern\n",
        "        return a / b\n",
        "    return None\n",
        "\n",
        "def get_value_or_default(d, key, default=None):\n",
        "    val = d.get(key)\n",
        "    if val == None:  # bad pattern\n",
        "        return default\n",
        "    return val\n",
        "\n",
        "\n",
        "def nested_check(x):\n",
        "    # None en if anidado\n",
        "    if x is not None:\n",
        "        if x != None:  # patrón incorrecto\n",
        "            return x\n",
        "    return None\n",
        "\n",
        "# None en condición de while\n",
        "cnt = 0\n",
        "item = 0\n",
        "while item != None and cnt < 1:  # patrón incorrecto\n",
        "    cnt += 1\n",
        "    item = None\n",
        "\n",
        "# None dentro de filter/lambda\n",
        "clean = list(filter(lambda t: t != None, [1, None, 2, None, 3]))  # patrón incorrecto"
      ]
    },
    {
      "cell_type": "code",
      "execution_count": 27,
      "metadata": {
        "colab": {
          "base_uri": "https://localhost:8080/"
        },
        "id": "sl4rDiRS0bYn",
        "outputId": "c01750bf-79ed-49bc-b5b0-31b3eb6dbe5f"
      },
      "outputs": [
        {
          "name": "stdout",
          "output_type": "stream",
          "text": [
            "-= Warnings =-\n",
            "CodeWarning(message=\"Use 'is' o 'is not' para comparaciones con None\", lineno=4, col=7, end_lineno=None, end_col=None)\n",
            "CodeWarning(message=\"Use 'is' o 'is not' para comparaciones con None\", lineno=12, col=7, end_lineno=None, end_col=None)\n",
            "CodeWarning(message=\"Use 'is' o 'is not' para comparaciones con None\", lineno=18, col=7, end_lineno=None, end_col=None)\n",
            "CodeWarning(message=\"Use 'is' o 'is not' para comparaciones con None\", lineno=27, col=11, end_lineno=None, end_col=None)\n",
            "CodeWarning(message=\"Use 'is' o 'is not' para comparaciones con None\", lineno=34, col=6, end_lineno=None, end_col=None)\n",
            "CodeWarning(message=\"Use 'is' o 'is not' para comparaciones con None\", lineno=39, col=30, end_lineno=None, end_col=None)\n",
            "-= Fixed Code =-\n",
            "def find_first_even(nums):\n",
            "    if nums is None:\n",
            "        return None\n",
            "    for n in nums:\n",
            "        if n % 2 == 0:\n",
            "            return n\n",
            "    return None\n",
            "\n",
            "def safe_divide(a, b):\n",
            "    if b is not None and b != 0:\n",
            "        return a / b\n",
            "    return None\n",
            "\n",
            "def get_value_or_default(d, key, default=None):\n",
            "    val = d.get(key)\n",
            "    if val is None:\n",
            "        return default\n",
            "    return val\n",
            "\n",
            "def nested_check(x):\n",
            "    if x is not None:\n",
            "        if x is not None:\n",
            "            return x\n",
            "    return None\n",
            "cnt = 0\n",
            "item = 0\n",
            "while item is not None and cnt < 1:\n",
            "    cnt += 1\n",
            "    item = None\n",
            "clean = list(filter(lambda t: t is not None, [1, None, 2, None, 3]))\n"
          ]
        }
      ],
      "source": [
        "linter = DCCLinter([NoneCompareDetectionRule()],[NodeComparisonPatcher()])\n",
        "\n",
        "bad_code =  find_cell(\"# Case Study 1\")\n",
        "warnings = linter.search(bad_code)\n",
        "print(\"-= Warnings =-\")\n",
        "for w in warnings:\n",
        "    print(w)\n",
        "good_code = linter.patch(bad_code)\n",
        "print(\"-= Fixed Code =-\")\n",
        "print(good_code)"
      ]
    }
  ],
  "metadata": {
    "colab": {
      "provenance": []
    },
    "kernelspec": {
      "display_name": "Python 3",
      "name": "python3"
    },
    "language_info": {
      "codemirror_mode": {
        "name": "ipython",
        "version": 3
      },
      "file_extension": ".py",
      "mimetype": "text/x-python",
      "name": "python",
      "nbconvert_exporter": "python",
      "pygments_lexer": "ipython3",
      "version": "3.12.10"
    }
  },
  "nbformat": 4,
  "nbformat_minor": 0
}
