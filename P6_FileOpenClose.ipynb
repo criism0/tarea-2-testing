{
  "cells": [
    {
      "cell_type": "markdown",
      "metadata": {
        "id": "ZEphjy9oyQ5k"
      },
      "source": [
        "# Run Test Method"
      ]
    },
    {
      "cell_type": "code",
      "execution_count": 8,
      "metadata": {
        "id": "E2HDKQuyyP81"
      },
      "outputs": [],
      "source": [
        "def runTests(testClass):\n",
        "    loader = unittest.TestLoader()\n",
        "    suite = loader.loadTestsFromTestCase(testClass)\n",
        "    runner = unittest.TextTestRunner()\n",
        "    runner.run(suite)"
      ]
    },
    {
      "cell_type": "markdown",
      "metadata": {
        "id": "913c4gvrxZGF"
      },
      "source": [
        "# Modelo"
      ]
    },
    {
      "cell_type": "code",
      "execution_count": 9,
      "metadata": {
        "id": "FKrjSd6lxKlO"
      },
      "outputs": [],
      "source": [
        "from __future__ import annotations\n",
        "import ast, sys\n",
        "from dataclasses import dataclass\n",
        "from typing import List, Iterable, Tuple, Optional\n",
        "\n",
        "@dataclass(frozen=True)\n",
        "class CodeWarning:\n",
        "    message: str\n",
        "    lineno: int\n",
        "    col: int\n",
        "    end_lineno: Optional[int] = None\n",
        "    end_col: Optional[int] = None\n",
        "\n",
        "class DetectionRule:\n",
        "    name: str = \"Generic Detector\"\n",
        "    def search(self, src: str) -> List[CodeWarning]:\n",
        "        raise NotImplementedError\n",
        "\n",
        "class Patcher:\n",
        "    name: str = \"Generic Patcher\"\n",
        "    def patch(self, tree: ast.Node) -> str:\n",
        "        raise NotImplementedError\n",
        "\n",
        "class DCCLinter:\n",
        "    def __init__(self, detectors: Iterable[DetectionRule], patchers: Iterable[Patcher]):\n",
        "        self.detectors = detectors\n",
        "        self.patchers = patchers\n",
        "\n",
        "    def search(self, src: str) -> List[CodeWarning]:\n",
        "        out: List[CodeWarning] = []\n",
        "        for d in self.detectors:\n",
        "            out.extend(d.search(src))\n",
        "        return sorted(out, key=lambda w: (w.lineno, w.col))\n",
        "\n",
        "    def patch(self, src: str) -> str:\n",
        "        tree = ast.parse(src)\n",
        "        for p in self.patchers:\n",
        "          tree = p.patch(tree)\n",
        "        return ast.unparse(tree)"
      ]
    },
    {
      "cell_type": "markdown",
      "metadata": {
        "id": "ks-AFIIdxpdS"
      },
      "source": [
        "# None Compares\n",
        "\n",
        "## Detector"
      ]
    },
    {
      "cell_type": "code",
      "execution_count": 10,
      "metadata": {
        "id": "Rw5uSdokxr7x"
      },
      "outputs": [],
      "source": [
        "class OpenCloseDetectionRule(DetectionRule):\n",
        "    name = \"Detect open(...); ...; f.close()\"\n",
        "\n",
        "    def search(self, src: str) -> List[CodeWarning]:\n",
        "        # Detecta patrón open/uso/close secuencial.\n",
        "        tree = ast.parse(src)\n",
        "        warnings: List[CodeWarning] = []\n",
        "        for i, stmt in enumerate(tree.body):\n",
        "            if isinstance(stmt, ast.Assign) and isinstance(stmt.value, ast.Call) and isinstance(stmt.value.func, ast.Name) and stmt.value.func.id == 'open':\n",
        "                if i + 2 < len(tree.body):\n",
        "                    end = tree.body[i + 2]\n",
        "                    if (isinstance(end, ast.Expr) and isinstance(end.value, ast.Call) and isinstance(end.value.func, ast.Attribute)\n",
        "                        and end.value.func.attr == 'close' and isinstance(end.value.func.value, ast.Name)\n",
        "                        and isinstance(stmt.targets[0], ast.Name) and end.value.func.value.id == stmt.targets[0].id):\n",
        "                        warnings.append(CodeWarning(\"Usa 'with open(...) as f:' en lugar de open/close manual\", stmt.lineno, stmt.col_offset))\n",
        "        return warnings"
      ]
    },
    {
      "cell_type": "markdown",
      "metadata": {
        "id": "NklEm1uzxxij"
      },
      "source": [
        "## Patcher"
      ]
    },
    {
      "cell_type": "code",
      "execution_count": 11,
      "metadata": {
        "id": "T4O8O3xmxyjT"
      },
      "outputs": [],
      "source": [
        "class OpenClosePatcher(Patcher):\n",
        "    name = \"Open/Close → with open as f\"\n",
        "\n",
        "    def patch(self, tree: ast.AST) -> ast.AST:\n",
        "        # Reescribe secuencia open/uso/close a with.\n",
        "        new_body, i = [], 0\n",
        "        while i < len(tree.body):\n",
        "            stmt = tree.body[i]\n",
        "            if (isinstance(stmt, ast.Assign) and isinstance(stmt.value, ast.Call)\n",
        "                and isinstance(stmt.value.func, ast.Name) and stmt.value.func.id == 'open'\n",
        "                and i + 2 < len(tree.body)):\n",
        "                mid, end = tree.body[i + 1], tree.body[i + 2]\n",
        "                if (isinstance(end, ast.Expr) and isinstance(end.value, ast.Call) and isinstance(end.value.func, ast.Attribute)\n",
        "                    and end.value.func.attr == 'close' and isinstance(end.value.func.value, ast.Name)\n",
        "                    and isinstance(stmt.targets[0], ast.Name) and end.value.func.value.id == stmt.targets[0].id):\n",
        "                    var = stmt.targets[0].id\n",
        "                    new_body.append(ast.With(items=[ast.withitem(context_expr=stmt.value, optional_vars=ast.Name(var, ast.Store()))], body=[mid], type_comment=None))\n",
        "                    i += 3\n",
        "                    continue\n",
        "            new_body.append(stmt); i += 1\n",
        "        tree.body = new_body\n",
        "        return ast.fix_missing_locations(tree)"
      ]
    },
    {
      "cell_type": "markdown",
      "metadata": {
        "id": "ZUyTU0vnx_2_"
      },
      "source": [
        "## Tests"
      ]
    },
    {
      "cell_type": "code",
      "execution_count": 12,
      "metadata": {
        "id": "VquoUQmYyBgN"
      },
      "outputs": [],
      "source": [
        "import unittest\n",
        "\n",
        "class TestNoneCompare(unittest.TestCase):\n",
        "    def setUp(self):\n",
        "        self.linter = DCCLinter([OpenCloseDetectionRule()],[OpenClosePatcher()])\n",
        "\n",
        "    def test_detect(self):\n",
        "        src = \"f = open('a.txt','w')\\nf.write('x')\\nf.close()\\n\"\n",
        "        warnings = self.linter.search(src)\n",
        "        self.assertEqual(len(warnings), 1)\n",
        "\n",
        "    def test_patch_basic(self):\n",
        "        src = \"f = open('a.txt','w')\\nf.write('x')\\nf.close()\\n\"\n",
        "        out = self.linter.patch(src)\n",
        "        self.assertIn(\"with open('a.txt', 'w') as f:\", out)\n",
        "        self.assertNotIn(\"close()\", out)\n",
        "\n",
        "    def test_skip_when_no_close(self):\n",
        "        src = \"f = open('a.txt','w')\\nf.write('x')\\n\"\n",
        "        warnings = self.linter.search(src)\n",
        "        self.assertEqual(len(warnings), 0)\n",
        "        out = self.linter.patch(src)\n",
        "        self.assertIn(\"open('a.txt', 'w')\", out)\n",
        "\n",
        "    # Tests extra\n",
        "    def test_skip_mismatched_variable(self):\n",
        "        src = \"f = open('a.txt','w')\\nf.write('x')\\ng.close()\\n\"\n",
        "        warnings = self.linter.search(src)\n",
        "        self.assertEqual(len(warnings), 0)\n",
        "        out = self.linter.patch(src)\n",
        "        self.assertIn(\"g.close()\", out)\n",
        "\n",
        "    def test_patch_read_mode(self):\n",
        "        src = \"f = open('a.txt','r')\\nf.read()\\nf.close()\\n\"\n",
        "        out = self.linter.patch(src)\n",
        "        self.assertIn(\"with open('a.txt', 'r') as f:\", out)\n",
        "        self.assertNotIn(\"close()\", out)\n",
        "\n",
        "    def test_patch_append_mode(self):\n",
        "        src = \"f = open('a.txt','a')\\nf.write('y')\\nf.close()\\n\"\n",
        "        out = self.linter.patch(src)\n",
        "        self.assertIn(\"with open('a.txt', 'a') as f:\", out)\n",
        "        self.assertNotIn(\"close()\", out)"
      ]
    },
    {
      "cell_type": "code",
      "execution_count": 13,
      "metadata": {
        "colab": {
          "base_uri": "https://localhost:8080/"
        },
        "id": "VE9PsgiyyX08",
        "outputId": "05018070-e231-44a7-d1b2-9a592330552f"
      },
      "outputs": [
        {
          "name": "stderr",
          "output_type": "stream",
          "text": [
            "......\n",
            "----------------------------------------------------------------------\n",
            "Ran 6 tests in 0.005s\n",
            "\n",
            "OK\n",
            ".....\n",
            "----------------------------------------------------------------------\n",
            "Ran 6 tests in 0.005s\n",
            "\n",
            "OK\n"
          ]
        }
      ],
      "source": [
        "runTests(TestNoneCompare)"
      ]
    },
    {
      "cell_type": "markdown",
      "metadata": {
        "id": "DO5kAlFxyq3z"
      },
      "source": [
        "## Real World Code"
      ]
    },
    {
      "cell_type": "code",
      "execution_count": 14,
      "metadata": {
        "id": "vtirjWsFzGU4"
      },
      "outputs": [],
      "source": [
        "def find_cell(comment):\n",
        "    \"\"\"\n",
        "    Busca la primera celda en el cuaderno actual cuya primera línea\n",
        "    comience con el comentario dado (por ejemplo, \"# Case Study 1\").\n",
        "\n",
        "    Parámetros:\n",
        "        comment (str): El comentario que se quiere buscar.\n",
        "\n",
        "    Retorna:\n",
        "        str | None: El código fuente de la celda encontrada, o None si no existe.\n",
        "    \"\"\"\n",
        "    for cell_source in In:  # `In` contiene el código fuente de todas las celdas ejecutadas\n",
        "        lines = cell_source.strip().splitlines()\n",
        "        if lines and lines[0].strip().startswith(comment):  # revisa la primera línea\n",
        "            return cell_source\n",
        "    return None"
      ]
    },
    {
      "cell_type": "code",
      "execution_count": 17,
      "metadata": {
        "id": "1WG1-4Fuy5fp"
      },
      "outputs": [],
      "source": [
        "# Case Study 1\n",
        "\n",
        "# --- Case 1: Simple open/close (should be rewritten) ---\n",
        "f = open(\"a.txt\", \"w\")\n",
        "f.write(\"hello world\")\n",
        "f.close()\n",
        "\n",
        "# --- Case 2: Another simple open/close (should be rewritten) ---\n",
        "g = open(\"b.txt\", \"w\")\n",
        "g.write(\"line 1\\n\")\n",
        "g.write(\"line 2\\n\")\n",
        "g.close()\n",
        "\n",
        "# --- Case 3: Open without close (should NOT be touched) ---\n",
        "h = open(\"c.txt\", \"w\")\n",
        "h.write(\"oops, no close\")\n",
        "\n",
        "# --- Case 4: Mismatched variable (f opened, g closed → skip) ---\n",
        "f = open(\"d.txt\", \"w\")\n",
        "f.write(\"wrong close\")\n",
        "g.close()\n",
        "\n",
        "# --- Case 5: Inside a function (should be rewritten) ---\n",
        "def save_data(path, text):\n",
        "    out = open(path, \"w\")\n",
        "    out.write(text)\n",
        "    out.close()\n",
        "\n",
        "# --- Case 6: Already correct with-statement (should NOT be touched) ---\n",
        "with open(\"e.txt\", \"w\") as x:\n",
        "    x.write(\"already good\")\n",
        "\n",
        "# Dentro de un if\n",
        "if True:\n",
        "    k = open(\"k.txt\", \"w\")\n",
        "    k.write(\"conditional\")\n",
        "    k.close()\n",
        "\n",
        "# En un bucle\n",
        "for i in range(2):\n",
        "    m = open(f\"m_{i}.txt\", \"w\")\n",
        "    m.write(str(i))\n",
        "    m.close()\n",
        "\n",
        "# Con try/finally\n",
        "n = open(\"n.txt\", \"w\")\n",
        "try:\n",
        "    n.write(\"try-finally\")\n",
        "finally:\n",
        "    n.close()\n"
      ]
    },
    {
      "cell_type": "code",
      "execution_count": 18,
      "metadata": {
        "colab": {
          "base_uri": "https://localhost:8080/"
        },
        "id": "sl4rDiRS0bYn",
        "outputId": "8364b6ea-38af-461c-c2b1-8409a2e3ff48"
      },
      "outputs": [
        {
          "name": "stdout",
          "output_type": "stream",
          "text": [
            "-= Warnings =-\n",
            "CodeWarning(message=\"Usa 'with open(...) as f:' en lugar de open/close manual\", lineno=4, col=0, end_lineno=None, end_col=None)\n",
            "-= Fixed Code =-\n",
            "with open('a.txt', 'w') as f:\n",
            "    f.write('hello world')\n",
            "g = open('b.txt', 'w')\n",
            "g.write('line 1\\n')\n",
            "g.write('line 2\\n')\n",
            "g.close()\n",
            "h = open('c.txt', 'w')\n",
            "h.write('oops, no close')\n",
            "f = open('d.txt', 'w')\n",
            "f.write('wrong close')\n",
            "g.close()\n",
            "\n",
            "def save_data(path, text):\n",
            "    out = open(path, 'w')\n",
            "    out.write(text)\n",
            "    out.close()\n",
            "with open('e.txt', 'w') as x:\n",
            "    x.write('already good')\n",
            "if True:\n",
            "    k = open('k.txt', 'w')\n",
            "    k.write('conditional')\n",
            "    k.close()\n",
            "for i in range(2):\n",
            "    m = open(f'm_{i}.txt', 'w')\n",
            "    m.write(str(i))\n",
            "    m.close()\n",
            "n = open('n.txt', 'w')\n",
            "try:\n",
            "    n.write('try-finally')\n",
            "finally:\n",
            "    n.close()\n"
          ]
        }
      ],
      "source": [
        "linter = DCCLinter([OpenCloseDetectionRule()],[OpenClosePatcher()])\n",
        "\n",
        "bad_code =  find_cell(\"# Case Study 1\")\n",
        "warnings = linter.search(bad_code)\n",
        "print(\"-= Warnings =-\")\n",
        "for w in warnings:\n",
        "    print(w)\n",
        "good_code = linter.patch(bad_code)\n",
        "print(\"-= Fixed Code =-\")\n",
        "print(good_code)"
      ]
    }
  ],
  "metadata": {
    "colab": {
      "provenance": []
    },
    "kernelspec": {
      "display_name": "Python 3",
      "name": "python3"
    },
    "language_info": {
      "codemirror_mode": {
        "name": "ipython",
        "version": 3
      },
      "file_extension": ".py",
      "mimetype": "text/x-python",
      "name": "python",
      "nbconvert_exporter": "python",
      "pygments_lexer": "ipython3",
      "version": "3.12.10"
    }
  },
  "nbformat": 4,
  "nbformat_minor": 0
}
