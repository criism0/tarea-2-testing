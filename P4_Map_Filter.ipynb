{
  "cells": [
    {
      "cell_type": "markdown",
      "metadata": {
        "id": "ZEphjy9oyQ5k"
      },
      "source": [
        "# Run Test Method"
      ]
    },
    {
      "cell_type": "code",
      "execution_count": 8,
      "metadata": {
        "id": "E2HDKQuyyP81"
      },
      "outputs": [],
      "source": [
        "def runTests(testClass):\n",
        "    loader = unittest.TestLoader()\n",
        "    suite = loader.loadTestsFromTestCase(testClass)\n",
        "    runner = unittest.TextTestRunner()\n",
        "    runner.run(suite)"
      ]
    },
    {
      "cell_type": "markdown",
      "metadata": {
        "id": "913c4gvrxZGF"
      },
      "source": [
        "# Modelo"
      ]
    },
    {
      "cell_type": "code",
      "execution_count": 9,
      "metadata": {
        "id": "FKrjSd6lxKlO"
      },
      "outputs": [],
      "source": [
        "from __future__ import annotations\n",
        "import ast, sys\n",
        "from dataclasses import dataclass\n",
        "from typing import List, Iterable, Tuple, Optional\n",
        "\n",
        "@dataclass(frozen=True)\n",
        "class CodeWarning:\n",
        "    message: str\n",
        "    lineno: int\n",
        "    col: int\n",
        "    end_lineno: Optional[int] = None\n",
        "    end_col: Optional[int] = None\n",
        "\n",
        "class DetectionRule:\n",
        "    name: str = \"Generic Detector\"\n",
        "    def search(self, src: str) -> List[CodeWarning]:\n",
        "        raise NotImplementedError\n",
        "\n",
        "class Patcher:\n",
        "    name: str = \"Generic Patcher\"\n",
        "    def patch(self, tree: ast.AST) -> ast.AST:\n",
        "        raise NotImplementedError\n",
        "\n",
        "class DCCLinter:\n",
        "    def __init__(self, detectors: Iterable[DetectionRule], patchers: Iterable[Patcher]):\n",
        "        self.detectors = detectors\n",
        "        self.patchers = patchers\n",
        "\n",
        "    def search(self, src: str) -> List[CodeWarning]:\n",
        "        out: List[CodeWarning] = []\n",
        "        for d in self.detectors:\n",
        "            out.extend(d.search(src))\n",
        "        return sorted(out, key=lambda w: (w.lineno, w.col))\n",
        "\n",
        "    def patch(self, src: str) -> str:\n",
        "        tree = ast.parse(src)\n",
        "        for p in self.patchers:\n",
        "          tree = p.patch(tree)\n",
        "        return ast.unparse(tree)"
      ]
    },
    {
      "cell_type": "markdown",
      "metadata": {
        "id": "ks-AFIIdxpdS"
      },
      "source": [
        "# None Compares\n",
        "\n",
        "## Detector"
      ]
    },
    {
      "cell_type": "code",
      "execution_count": 10,
      "metadata": {
        "id": "Rw5uSdokxr7x"
      },
      "outputs": [],
      "source": [
        "class MapFilterDetectionRule(DetectionRule):\n",
        "    name = \"Detect list(map(...)) / list(filter(...))\"\n",
        "\n",
        "    def search(self, src: str) -> List[CodeWarning]:\n",
        "        # Detecta list(map|filter(...)).\n",
        "        tree = ast.parse(src)\n",
        "        warnings: List[CodeWarning] = []\n",
        "        for node in ast.walk(tree):\n",
        "            if isinstance(node, ast.Call) and isinstance(node.func, ast.Name) and node.func.id == 'list' and node.args:\n",
        "                inner = node.args[0]\n",
        "                if isinstance(inner, ast.Call) and isinstance(inner.func, ast.Name) and inner.func.id in ('map','filter'):\n",
        "                    warnings.append(CodeWarning(\"Usa comprensión de listas en vez de list(...)\", node.lineno, node.col_offset))\n",
        "                    warnings.append(CodeWarning(f\"Evita el uso de {inner.func.id} dentro de list\", inner.lineno, inner.col_offset))\n",
        "        return warnings"
      ]
    },
    {
      "cell_type": "markdown",
      "metadata": {
        "id": "NklEm1uzxxij"
      },
      "source": [
        "## Patcher"
      ]
    },
    {
      "cell_type": "code",
      "execution_count": 11,
      "metadata": {
        "id": "T4O8O3xmxyjT"
      },
      "outputs": [],
      "source": [
        "class MapFilterPatcher(Patcher):\n",
        "    name: str = \"Map/Filter to List Comprehension\"\n",
        "\n",
        "    def patch(self, tree: ast.AST) -> ast.AST:\n",
        "        # Convierte list(map|filter(...)) a comprensión de listas.\n",
        "        class T(ast.NodeTransformer):\n",
        "            def visit_Call(self, node):\n",
        "                if (isinstance(node.func, ast.Name) and node.func.id == 'list'\n",
        "                    and node.args and isinstance(node.args[0], ast.Call)\n",
        "                    and isinstance(node.args[0].func, ast.Name)\n",
        "                    and node.args[0].func.id in ('map','filter')):\n",
        "                    inner = node.args[0]\n",
        "                    if inner.func.id == 'map' and len(inner.args) == 2:\n",
        "                        f, it = inner.args\n",
        "                        return ast.ListComp(\n",
        "                            elt=ast.Call(func=f, args=[ast.Name('_x', ast.Load())], keywords=[]),\n",
        "                            generators=[ast.comprehension(target=ast.Name('_x', ast.Store()), iter=inner.args[1], ifs=[], is_async=0)]\n",
        "                        )\n",
        "                    if inner.func.id == 'filter' and len(inner.args) == 2:\n",
        "                        pred, it = inner.args\n",
        "                        var = ast.Name('_x', ast.Load())\n",
        "                        return ast.ListComp(\n",
        "                            elt=var,\n",
        "                            generators=[ast.comprehension(target=ast.Name('_x', ast.Store()), iter=it, ifs=[ast.Call(func=pred, args=[var], keywords=[])], is_async=0)]\n",
        "                        )\n",
        "                return self.generic_visit(node)\n",
        "        return ast.fix_missing_locations(T().visit(tree))"
      ]
    },
    {
      "cell_type": "markdown",
      "metadata": {
        "id": "ZUyTU0vnx_2_"
      },
      "source": [
        "## Tests"
      ]
    },
    {
      "cell_type": "code",
      "execution_count": 12,
      "metadata": {
        "id": "VquoUQmYyBgN"
      },
      "outputs": [],
      "source": [
        "import unittest\n",
        "\n",
        "class TestMapFilter(unittest.TestCase):\n",
        "    def setUp(self):\n",
        "        self.linter = DCCLinter([MapFilterDetectionRule()],[MapFilterPatcher()])\n",
        "\n",
        "    def test_map(self):\n",
        "        s = \"xs = list(map(str, [1,2]))\\n\"\n",
        "        warnings = self.linter.search(s)\n",
        "        self.assertEqual(len(warnings), 2)\n",
        "\n",
        "    def test_filter(self):\n",
        "        s = \"ys = list(filter(lambda x: x>0, [-1,0,1]))\\n\"\n",
        "        out = self.linter.patch(s)\n",
        "        self.assertIn(\"[_x for _x in [-1, 0, 1] if (lambda x: x > 0)(_x)]\", out)\n",
        "\n",
        "    # Tests extra\n",
        "    def test_map_patch(self):\n",
        "        s = \"xs = list(map(str, [1,2]))\\n\"\n",
        "        out = self.linter.patch(s)\n",
        "        self.assertIn(\"[str(_x) for _x in [1, 2]]\", out)\n",
        "\n",
        "    def test_map_lambda_patch(self):\n",
        "        s = \"ys = list(map(lambda n: n+1, [1,2,3]))\\n\"\n",
        "        out = self.linter.patch(s)\n",
        "        self.assertIn(\"[(lambda n: n + 1)(_x) for _x in [1, 2, 3]]\", out)\n",
        "\n",
        "    def test_no_warning_for_list_comp(self):\n",
        "        s = \"xs = [x for x in [1,2,3]]\\n\"\n",
        "        self.assertEqual(len(self.linter.search(s)), 0)"
      ]
    },
    {
      "cell_type": "code",
      "execution_count": 13,
      "metadata": {
        "colab": {
          "base_uri": "https://localhost:8080/"
        },
        "id": "VE9PsgiyyX08",
        "outputId": "f9e2528b-baec-4c1f-9161-2708adbeb83d"
      },
      "outputs": [
        {
          "name": "stderr",
          "output_type": "stream",
          "text": [
            ".....\n",
            "----------------------------------------------------------------------\n",
            "Ran 5 tests in 0.006s\n",
            "\n",
            "OK\n",
            "....\n",
            "----------------------------------------------------------------------\n",
            "Ran 5 tests in 0.006s\n",
            "\n",
            "OK\n"
          ]
        }
      ],
      "source": [
        "runTests(TestMapFilter)"
      ]
    },
    {
      "cell_type": "markdown",
      "metadata": {
        "id": "DO5kAlFxyq3z"
      },
      "source": [
        "## Real World Code"
      ]
    },
    {
      "cell_type": "code",
      "execution_count": 14,
      "metadata": {
        "id": "vtirjWsFzGU4"
      },
      "outputs": [],
      "source": [
        "def find_cell(comment):\n",
        "    \"\"\"\n",
        "    Busca la primera celda en el cuaderno actual cuya primera línea\n",
        "    comience con el comentario dado (por ejemplo, \"# Case Study 1\").\n",
        "\n",
        "    Parámetros:\n",
        "        comment (str): El comentario que se quiere buscar.\n",
        "\n",
        "    Retorna:\n",
        "        str | None: El código fuente de la celda encontrada, o None si no existe.\n",
        "    \"\"\"\n",
        "    for cell_source in In:  # `In` contiene el código fuente de todas las celdas ejecutadas\n",
        "        lines = cell_source.strip().splitlines()\n",
        "        if lines and lines[0].strip().startswith(comment):  # revisa la primera línea\n",
        "            return cell_source\n",
        "    return None"
      ]
    },
    {
      "cell_type": "code",
      "execution_count": 15,
      "metadata": {
        "id": "1WG1-4Fuy5fp"
      },
      "outputs": [],
      "source": [
        "# Case Study 1\n",
        "def process_names(names):\n",
        "    # Convierte todos los nombres a mayúsculas\n",
        "    upper_names = list(map(str.upper, names))\n",
        "\n",
        "    # Filtra los nombres que empiezan con \"A\"\n",
        "    a_names = list(filter(lambda n: n.startswith(\"A\"), upper_names))\n",
        "\n",
        "    return a_names\n",
        "\n",
        "def normalize_numbers(nums):\n",
        "    # Convierte a enteros\n",
        "    int_nums = list(map(int, nums))\n",
        "\n",
        "    # Filtra solo los números positivos\n",
        "    positives = list(filter(lambda n: n > 0, int_nums))\n",
        "\n",
        "    # Aplica un cálculo adicional\n",
        "    doubled = list(map(lambda n: n * 2, positives))\n",
        "\n",
        "    return doubled\n",
        "\n",
        "# Dentro de un if\n",
        "nums = [\"1\",\"-2\",\"3\"]\n",
        "if len(nums) > 0:\n",
        "    ints_nonneg = list(filter(lambda x: int(x) >= 0, nums))\n",
        "\n",
        "# En un bucle\n",
        "results = []\n",
        "for batch in [[1,2,3],[4,5,6]]:\n",
        "    results.append(list(map(lambda n: n*n, batch)))\n",
        "\n",
        "# En una función con predicado nombrado\n",
        "def non_empty(strings):\n",
        "    return list(filter(lambda s: len(s) > 0, strings))\n"
      ]
    },
    {
      "cell_type": "code",
      "execution_count": 16,
      "metadata": {
        "colab": {
          "base_uri": "https://localhost:8080/"
        },
        "id": "sl4rDiRS0bYn",
        "outputId": "6bdab852-a3cb-481d-878c-e3edd0b5bd97"
      },
      "outputs": [
        {
          "name": "stdout",
          "output_type": "stream",
          "text": [
            "-= Warnings =-\n",
            "CodeWarning(message='Usa comprensión de listas en vez de list(...)', lineno=4, col=18, end_lineno=None, end_col=None)\n",
            "CodeWarning(message='Evita el uso de map dentro de list', lineno=4, col=23, end_lineno=None, end_col=None)\n",
            "CodeWarning(message='Usa comprensión de listas en vez de list(...)', lineno=7, col=14, end_lineno=None, end_col=None)\n",
            "CodeWarning(message='Evita el uso de filter dentro de list', lineno=7, col=19, end_lineno=None, end_col=None)\n",
            "CodeWarning(message='Usa comprensión de listas en vez de list(...)', lineno=13, col=15, end_lineno=None, end_col=None)\n",
            "CodeWarning(message='Evita el uso de map dentro de list', lineno=13, col=20, end_lineno=None, end_col=None)\n",
            "CodeWarning(message='Usa comprensión de listas en vez de list(...)', lineno=16, col=16, end_lineno=None, end_col=None)\n",
            "CodeWarning(message='Evita el uso de filter dentro de list', lineno=16, col=21, end_lineno=None, end_col=None)\n",
            "CodeWarning(message='Usa comprensión de listas en vez de list(...)', lineno=19, col=14, end_lineno=None, end_col=None)\n",
            "CodeWarning(message='Evita el uso de map dentro de list', lineno=19, col=19, end_lineno=None, end_col=None)\n",
            "CodeWarning(message='Usa comprensión de listas en vez de list(...)', lineno=26, col=18, end_lineno=None, end_col=None)\n",
            "CodeWarning(message='Evita el uso de filter dentro de list', lineno=26, col=23, end_lineno=None, end_col=None)\n",
            "CodeWarning(message='Usa comprensión de listas en vez de list(...)', lineno=31, col=19, end_lineno=None, end_col=None)\n",
            "CodeWarning(message='Evita el uso de map dentro de list', lineno=31, col=24, end_lineno=None, end_col=None)\n",
            "CodeWarning(message='Usa comprensión de listas en vez de list(...)', lineno=35, col=11, end_lineno=None, end_col=None)\n",
            "CodeWarning(message='Evita el uso de filter dentro de list', lineno=35, col=16, end_lineno=None, end_col=None)\n",
            "-= Fixed Code =-\n",
            "def process_names(names):\n",
            "    upper_names = [str.upper(_x) for _x in names]\n",
            "    a_names = [_x for _x in upper_names if (lambda n: n.startswith('A'))(_x)]\n",
            "    return a_names\n",
            "\n",
            "def normalize_numbers(nums):\n",
            "    int_nums = [int(_x) for _x in nums]\n",
            "    positives = [_x for _x in int_nums if (lambda n: n > 0)(_x)]\n",
            "    doubled = [(lambda n: n * 2)(_x) for _x in positives]\n",
            "    return doubled\n",
            "nums = ['1', '-2', '3']\n",
            "if len(nums) > 0:\n",
            "    ints_nonneg = [_x for _x in nums if (lambda x: int(x) >= 0)(_x)]\n",
            "results = []\n",
            "for batch in [[1, 2, 3], [4, 5, 6]]:\n",
            "    results.append([(lambda n: n * n)(_x) for _x in batch])\n",
            "\n",
            "def non_empty(strings):\n",
            "    return [_x for _x in strings if (lambda s: len(s) > 0)(_x)]\n"
          ]
        }
      ],
      "source": [
        "linter = DCCLinter([MapFilterDetectionRule()],[MapFilterPatcher()])\n",
        "bad_code =  find_cell(\"# Case Study 1\")\n",
        "warnings = linter.search(bad_code)\n",
        "print(\"-= Warnings =-\")\n",
        "for w in warnings:\n",
        "    print(w)\n",
        "good_code = linter.patch(bad_code)\n",
        "print(\"-= Fixed Code =-\")\n",
        "print(good_code)"
      ]
    }
  ],
  "metadata": {
    "colab": {
      "provenance": []
    },
    "kernelspec": {
      "display_name": "Python 3",
      "name": "python3"
    },
    "language_info": {
      "codemirror_mode": {
        "name": "ipython",
        "version": 3
      },
      "file_extension": ".py",
      "mimetype": "text/x-python",
      "name": "python",
      "nbconvert_exporter": "python",
      "pygments_lexer": "ipython3",
      "version": "3.12.10"
    }
  },
  "nbformat": 4,
  "nbformat_minor": 0
}
