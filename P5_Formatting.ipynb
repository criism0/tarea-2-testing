{
  "cells": [
    {
      "cell_type": "markdown",
      "metadata": {
        "id": "ZEphjy9oyQ5k"
      },
      "source": [
        "# Run Test Method"
      ]
    },
    {
      "cell_type": "code",
      "execution_count": 8,
      "metadata": {
        "id": "E2HDKQuyyP81"
      },
      "outputs": [],
      "source": [
        "def runTests(testClass):\n",
        "    loader = unittest.TestLoader()\n",
        "    suite = loader.loadTestsFromTestCase(testClass)\n",
        "    runner = unittest.TextTestRunner()\n",
        "    runner.run(suite)"
      ]
    },
    {
      "cell_type": "markdown",
      "metadata": {
        "id": "913c4gvrxZGF"
      },
      "source": [
        "# Modelo"
      ]
    },
    {
      "cell_type": "code",
      "execution_count": 9,
      "metadata": {
        "id": "FKrjSd6lxKlO"
      },
      "outputs": [],
      "source": [
        "from __future__ import annotations\n",
        "import ast, sys\n",
        "from dataclasses import dataclass\n",
        "from typing import List, Iterable, Tuple, Optional\n",
        "\n",
        "@dataclass(frozen=True)\n",
        "class CodeWarning:\n",
        "    message: str\n",
        "    lineno: int\n",
        "    col: int\n",
        "    end_lineno: Optional[int] = None\n",
        "    end_col: Optional[int] = None\n",
        "\n",
        "class DetectionRule:\n",
        "    name: str = \"Generic Detector\"\n",
        "    def search(self, src: str) -> List[CodeWarning]:\n",
        "        raise NotImplementedError\n",
        "\n",
        "class Patcher:\n",
        "    name: str = \"Generic Patcher\"\n",
        "    def patch(self, tree: ast.Node) -> str:\n",
        "        raise NotImplementedError\n",
        "\n",
        "class DCCLinter:\n",
        "    def __init__(self, detectors: Iterable[DetectionRule], patchers: Iterable[Patcher]):\n",
        "        self.detectors = detectors\n",
        "        self.patchers = patchers\n",
        "\n",
        "    def search(self, src: str) -> List[CodeWarning]:\n",
        "        out: List[CodeWarning] = []\n",
        "        for d in self.detectors:\n",
        "            out.extend(d.search(src))\n",
        "        return sorted(out, key=lambda w: (w.lineno, w.col))\n",
        "\n",
        "    def patch(self, src: str) -> str:\n",
        "        tree = ast.parse(src)\n",
        "        for p in self.patchers:\n",
        "          tree = p.patch(tree)\n",
        "        return ast.unparse(tree)"
      ]
    },
    {
      "cell_type": "markdown",
      "metadata": {
        "id": "ks-AFIIdxpdS"
      },
      "source": [
        "# None Compares\n",
        "\n",
        "## Detector"
      ]
    },
    {
      "cell_type": "code",
      "execution_count": 10,
      "metadata": {
        "id": "Rw5uSdokxr7x"
      },
      "outputs": [],
      "source": [
        "class PercentFormatDetectionRule(DetectionRule):\n",
        "    name = \"Detect simple '%' formatting with names\"\n",
        "\n",
        "    def search(self, src: str) -> List[CodeWarning]:\n",
        "        # Marca cadenas formateadas con %.\n",
        "        tree = ast.parse(src)\n",
        "        warnings: List[CodeWarning] = []\n",
        "        for node in ast.walk(tree):\n",
        "            if isinstance(node, ast.BinOp) and isinstance(node.op, ast.Mod) and isinstance(node.left, ast.Constant) and isinstance(node.left.value, str):\n",
        "                warnings.append(CodeWarning(\"Evita el uso de % para formatear strings, usa f-strings\", node.lineno, node.col_offset))\n",
        "        return warnings"
      ]
    },
    {
      "cell_type": "markdown",
      "metadata": {
        "id": "NklEm1uzxxij"
      },
      "source": [
        "## Patcher"
      ]
    },
    {
      "cell_type": "code",
      "execution_count": 11,
      "metadata": {
        "id": "T4O8O3xmxyjT"
      },
      "outputs": [],
      "source": [
        "class PercentFormatPatcher(Patcher):\n",
        "    name = \"Fix simple '%' → f-string\"\n",
        "\n",
        "    def patch(self, tree: ast.AST) -> ast.AST:\n",
        "        # Reescribe '%'-format a f-strings simples.\n",
        "        class T(ast.NodeTransformer):\n",
        "            def visit_BinOp(self, node):\n",
        "                if isinstance(node, ast.BinOp) and isinstance(node.op, ast.Mod) and isinstance(node.left, ast.Constant) and isinstance(node.left.value, str):\n",
        "                    fmt = node.left.value\n",
        "                    values = node.right\n",
        "                    args = values.elts if isinstance(values, ast.Tuple) else [values]\n",
        "                    parts, first = [], True\n",
        "                    for chunk in fmt.split('%'):\n",
        "                        if first:\n",
        "                            parts.append(chunk); first = False; continue\n",
        "                        if args:\n",
        "                            val = args.pop(0)\n",
        "                            parts.append('{' + ast.unparse(val) + '}')\n",
        "                        if chunk and chunk[:1] in ('s','d'):\n",
        "                            parts.append(chunk[1:])\n",
        "                        else:\n",
        "                            parts.append(chunk)\n",
        "                    return ast.parse(f\"f'''{''.join(parts)}'''\", mode='eval').body\n",
        "                return self.generic_visit(node)\n",
        "        return T().visit(tree)"
      ]
    },
    {
      "cell_type": "markdown",
      "metadata": {
        "id": "ZUyTU0vnx_2_"
      },
      "source": [
        "## Tests"
      ]
    },
    {
      "cell_type": "code",
      "execution_count": 12,
      "metadata": {
        "id": "VquoUQmYyBgN"
      },
      "outputs": [],
      "source": [
        "import unittest\n",
        "\n",
        "class TestPercentToFstring(unittest.TestCase):\n",
        "    def setUp(self):\n",
        "        self.l = DCCLinter([PercentFormatDetectionRule()], [PercentFormatPatcher()])\n",
        "\n",
        "    def test_detect(self):\n",
        "        s = \"name='Ana'\\nprint('Hi %s' % name)\\n\"\n",
        "        self.assertEqual(len(self.l.search(s)), 1)\n",
        "\n",
        "    def test_patch_single(self):\n",
        "        s = \"name='Ana'\\nprint('Hi %s' % name)\\n\"\n",
        "        out = self.l.patch(s)\n",
        "        self.assertIn(\"print(f'Hi {name}')\", out)\n",
        "\n",
        "    def test_patch_tuple(self):\n",
        "        s = \"a,b=1,2\\nprint('%s-%d' % (a,b))\\n\"\n",
        "        out = self.l.patch(s)\n",
        "        self.assertIn(\"print(f'{a}-{b}')\", out)\n",
        "\n",
        "    # Tests extra\n",
        "    def test_no_warning_for_fstring(self):\n",
        "        s = \"name='Ana'\\nprint(f'Hi {name}')\\n\"\n",
        "        self.assertEqual(len(self.l.search(s)), 0)\n",
        "\n",
        "    def test_patch_mixed_types(self):\n",
        "        s = \"x=3\\ny='A'\\nprint('%s:%d' % (y, x))\\n\"\n",
        "        out = self.l.patch(s)\n",
        "        self.assertIn(\"print(f'{y}:{x}')\", out)\n",
        "\n",
        "    def test_no_warning_non_string_left(self):\n",
        "        s = \"a=5\\nb=a%2\\n\"\n",
        "        self.assertEqual(len(self.l.search(s)), 0)"
      ]
    },
    {
      "cell_type": "code",
      "execution_count": 13,
      "metadata": {
        "colab": {
          "base_uri": "https://localhost:8080/"
        },
        "id": "VE9PsgiyyX08",
        "outputId": "2690c678-fd27-4b15-84ed-71e49fe1f021"
      },
      "outputs": [
        {
          "name": "stderr",
          "output_type": "stream",
          "text": [
            "......\n",
            "----------------------------------------------------------------------\n",
            "Ran 6 tests in 0.005s\n",
            "\n",
            "OK\n",
            ".....\n",
            "----------------------------------------------------------------------\n",
            "Ran 6 tests in 0.005s\n",
            "\n",
            "OK\n"
          ]
        }
      ],
      "source": [
        "runTests(TestPercentToFstring)"
      ]
    },
    {
      "cell_type": "markdown",
      "metadata": {
        "id": "DO5kAlFxyq3z"
      },
      "source": [
        "## Real World Code"
      ]
    },
    {
      "cell_type": "code",
      "execution_count": 14,
      "metadata": {
        "id": "vtirjWsFzGU4"
      },
      "outputs": [],
      "source": [
        "def find_cell(comment):\n",
        "    \"\"\"\n",
        "    Busca la primera celda en el cuaderno actual cuya primera línea\n",
        "    comience con el comentario dado (por ejemplo, \"# Case Study 1\").\n",
        "\n",
        "    Parámetros:\n",
        "        comment (str): El comentario que se quiere buscar.\n",
        "\n",
        "    Retorna:\n",
        "        str | None: El código fuente de la celda encontrada, o None si no existe.\n",
        "    \"\"\"\n",
        "    for cell_source in In:  # `In` contiene el código fuente de todas las celdas ejecutadas\n",
        "        lines = cell_source.strip().splitlines()\n",
        "        if lines and lines[0].strip().startswith(comment):  # revisa la primera línea\n",
        "            return cell_source\n",
        "    return None"
      ]
    },
    {
      "cell_type": "code",
      "execution_count": 15,
      "metadata": {
        "colab": {
          "base_uri": "https://localhost:8080/"
        },
        "id": "1WG1-4Fuy5fp",
        "outputId": "477d7fba-c4c6-4d5f-d186-fccbed2dde89"
      },
      "outputs": [
        {
          "name": "stdout",
          "output_type": "stream",
          "text": [
            "Ana-3\n"
          ]
        }
      ],
      "source": [
        "# Case Study 1\n",
        "user='Ana'\n",
        "print('%s-%d' % (user, 3))\n",
        "msg = 'Hi %s' % user\n",
        "\n",
        "# Dentro de un if\n",
        "if True:\n",
        "    info = 'User: %s' % user\n",
        "\n",
        "# En un bucle\n",
        "items = []\n",
        "for i in range(3):\n",
        "    items.append('%s-%d' % (user, i))\n",
        "\n",
        "# Dentro de una función\n",
        "def greet(name, n):\n",
        "    return 'Hi %s x%d' % (name, n)\n"
      ]
    },
    {
      "cell_type": "code",
      "execution_count": 16,
      "metadata": {
        "colab": {
          "base_uri": "https://localhost:8080/"
        },
        "id": "sl4rDiRS0bYn",
        "outputId": "f07b01b8-b117-46f9-eaa9-778ba031cee6"
      },
      "outputs": [
        {
          "name": "stdout",
          "output_type": "stream",
          "text": [
            "-= Warnings =-\n",
            "CodeWarning(message='Evita el uso de % para formatear strings, usa f-strings', lineno=3, col=6, end_lineno=None, end_col=None)\n",
            "CodeWarning(message='Evita el uso de % para formatear strings, usa f-strings', lineno=4, col=6, end_lineno=None, end_col=None)\n",
            "CodeWarning(message='Evita el uso de % para formatear strings, usa f-strings', lineno=8, col=11, end_lineno=None, end_col=None)\n",
            "CodeWarning(message='Evita el uso de % para formatear strings, usa f-strings', lineno=13, col=17, end_lineno=None, end_col=None)\n",
            "CodeWarning(message='Evita el uso de % para formatear strings, usa f-strings', lineno=17, col=11, end_lineno=None, end_col=None)\n",
            "-= Fixed Code =-\n",
            "user = 'Ana'\n",
            "print(f'{user}-{3}')\n",
            "msg = f'Hi {user}'\n",
            "if True:\n",
            "    info = f'User: {user}'\n",
            "items = []\n",
            "for i in range(3):\n",
            "    items.append(f'{user}-{i}')\n",
            "\n",
            "def greet(name, n):\n",
            "    return f'Hi {name} x{n}'\n"
          ]
        }
      ],
      "source": [
        "linter = DCCLinter([PercentFormatDetectionRule()], [PercentFormatPatcher()])\n",
        "\n",
        "bad_code =  find_cell(\"# Case Study 1\")\n",
        "warnings = linter.search(bad_code)\n",
        "print(\"-= Warnings =-\")\n",
        "for w in warnings:\n",
        "    print(w)\n",
        "good_code = linter.patch(bad_code)\n",
        "print(\"-= Fixed Code =-\")\n",
        "print(good_code)"
      ]
    }
  ],
  "metadata": {
    "colab": {
      "provenance": []
    },
    "kernelspec": {
      "display_name": "Python 3",
      "name": "python3"
    },
    "language_info": {
      "codemirror_mode": {
        "name": "ipython",
        "version": 3
      },
      "file_extension": ".py",
      "mimetype": "text/x-python",
      "name": "python",
      "nbconvert_exporter": "python",
      "pygments_lexer": "ipython3",
      "version": "3.12.10"
    }
  },
  "nbformat": 4,
  "nbformat_minor": 0
}
