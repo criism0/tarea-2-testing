{
  "cells": [
    {
      "cell_type": "markdown",
      "metadata": {
        "id": "ZEphjy9oyQ5k"
      },
      "source": [
        "# Run Test Method"
      ]
    },
    {
      "cell_type": "code",
      "execution_count": 16,
      "metadata": {
        "id": "E2HDKQuyyP81"
      },
      "outputs": [],
      "source": [
        "def runTests(testClass):\n",
        "    loader = unittest.TestLoader()\n",
        "    suite = loader.loadTestsFromTestCase(testClass)\n",
        "    runner = unittest.TextTestRunner()\n",
        "    runner.run(suite)"
      ]
    },
    {
      "cell_type": "markdown",
      "metadata": {
        "id": "913c4gvrxZGF"
      },
      "source": [
        "# Modelo"
      ]
    },
    {
      "cell_type": "code",
      "execution_count": 17,
      "metadata": {
        "id": "FKrjSd6lxKlO"
      },
      "outputs": [],
      "source": [
        "from __future__ import annotations\n",
        "import ast, sys\n",
        "from dataclasses import dataclass\n",
        "from typing import List, Iterable, Tuple, Optional\n",
        "\n",
        "@dataclass(frozen=True)\n",
        "class CodeWarning:\n",
        "    message: str\n",
        "    lineno: int\n",
        "    col: int\n",
        "    end_lineno: Optional[int] = None\n",
        "    end_col: Optional[int] = None\n",
        "\n",
        "class DetectionRule:\n",
        "    name: str = \"Generic Detector\"\n",
        "    def search(self, src: str) -> List[CodeWarning]:\n",
        "        raise NotImplementedError\n",
        "\n",
        "class Patcher:\n",
        "    name: str = \"Generic Patcher\"\n",
        "    def patch(self, tree: ast.Node) -> str:\n",
        "        raise NotImplementedError\n",
        "\n",
        "class DCCLinter:\n",
        "    def __init__(self, detectors: Iterable[DetectionRule], patchers: Iterable[Patcher]):\n",
        "        self.detectors = detectors\n",
        "        self.patchers = patchers\n",
        "\n",
        "    def search(self, src: str) -> List[CodeWarning]:\n",
        "        out: List[CodeWarning] = []\n",
        "        for d in self.detectors:\n",
        "            out.extend(d.search(src))\n",
        "        return sorted(out, key=lambda w: (w.lineno, w.col))\n",
        "\n",
        "    def patch(self, src: str) -> str:\n",
        "        tree = ast.parse(src)\n",
        "        for p in self.patchers:\n",
        "          tree = p.patch(tree)\n",
        "        return ast.unparse(tree)"
      ]
    },
    {
      "cell_type": "markdown",
      "metadata": {
        "id": "ks-AFIIdxpdS"
      },
      "source": [
        "# None Compares\n",
        "\n",
        "## Detector"
      ]
    },
    {
      "cell_type": "code",
      "execution_count": 18,
      "metadata": {
        "id": "Rw5uSdokxr7x"
      },
      "outputs": [],
      "source": [
        "class OsPathJoinDetectionRule(DetectionRule):\n",
        "    name = \"Detect os.path.join(...)\"\n",
        "\n",
        "    def search(self, src: str) -> List[CodeWarning]:\n",
        "        # Patrón ajustado a os.path.join.\n",
        "        tree = ast.parse(src)\n",
        "        warnings: List[CodeWarning] = []\n",
        "        for node in ast.walk(tree):\n",
        "            if isinstance(node, ast.Call) and isinstance(node.func, ast.Attribute):\n",
        "                f = node.func\n",
        "                if f.attr == 'join' and isinstance(f.value, ast.Attribute) and f.value.attr == 'path' and isinstance(f.value.value, ast.Name) and f.value.value.id == 'os':\n",
        "                    warnings.append(CodeWarning(\"Use pathlib.Path en lugar de os.path.join\", node.lineno, node.col_offset))\n",
        "        return warnings"
      ]
    },
    {
      "cell_type": "markdown",
      "metadata": {
        "id": "NklEm1uzxxij"
      },
      "source": [
        "## Patcher"
      ]
    },
    {
      "cell_type": "code",
      "execution_count": 19,
      "metadata": {
        "id": "T4O8O3xmxyjT"
      },
      "outputs": [],
      "source": [
        "class OsPathJoinPatcher(Patcher):\n",
        "    name = \"Fix os.path.join to Path division\"\n",
        "\n",
        "    def patch(self, tree: ast.AST) -> ast.AST:\n",
        "        # Reemplaza join por Path()/operador '/'.\n",
        "        class T(ast.NodeTransformer):\n",
        "            def visit_Call(self, node):\n",
        "                if (isinstance(node.func, ast.Attribute) and node.func.attr == 'join'\n",
        "                    and isinstance(node.func.value, ast.Attribute) and node.func.value.attr == 'path'\n",
        "                    and isinstance(node.func.value.value, ast.Name) and node.func.value.value.id == 'os'):\n",
        "                    cur = ast.Call(func=ast.Name('Path', ast.Load()), args=[node.args[0]], keywords=[])\n",
        "                    for arg in node.args[1:]:\n",
        "                        cur = ast.BinOp(left=cur, op=ast.Div(), right=arg)\n",
        "                    return cur\n",
        "                return self.generic_visit(node)\n",
        "        tree = T().visit(tree)\n",
        "        tree.body.insert(0, ast.ImportFrom(module='pathlib', names=[ast.alias(name='Path')], level=0))\n",
        "        return ast.fix_missing_locations(tree)"
      ]
    },
    {
      "cell_type": "markdown",
      "metadata": {
        "id": "ZUyTU0vnx_2_"
      },
      "source": [
        "## Tests"
      ]
    },
    {
      "cell_type": "code",
      "execution_count": 20,
      "metadata": {
        "id": "VquoUQmYyBgN"
      },
      "outputs": [],
      "source": [
        "import unittest\n",
        "\n",
        "class TestOsPathJoinToPath(unittest.TestCase):\n",
        "    def setUp(self):\n",
        "        self.l = DCCLinter([OsPathJoinDetectionRule()], [OsPathJoinPatcher()])\n",
        "\n",
        "    def test_detect(self):\n",
        "        s = \"import os\\np = os.path.join('a','b')\\n\"\n",
        "        self.assertEqual(len(self.l.search(s)), 1)\n",
        "\n",
        "    def test_patch_two_args(self):\n",
        "        s = \"import os\\np = os.path.join('a','b')\\n\"\n",
        "        out = self.l.patch(s)\n",
        "        self.assertIn(\"from pathlib import Path\", out)\n",
        "        self.assertIn(\"Path('a') / 'b'\", out)\n",
        "\n",
        "    def test_patch_many_args(self):\n",
        "        s = \"import os\\np = os.path.join('a','b','c','d')\\n\"\n",
        "        out = self.l.patch(s)\n",
        "        self.assertIn(\"Path('a') / 'b' / 'c' / 'd'\", out)\n",
        "\n",
        "    # Tests extra\n",
        "    def test_patch_variables(self):\n",
        "        s = \"import os\\nbase='a'\\nname='b'\\np = os.path.join(base, name)\\n\"\n",
        "        out = self.l.patch(s)\n",
        "        self.assertIn(\"Path(base) / name\", out)\n",
        "\n",
        "    def test_no_warning_for_pathlib(self):\n",
        "        s = \"from pathlib import Path\\np = Path('a') / 'b'\\n\"\n",
        "        self.assertEqual(len(self.l.search(s)), 0)\n",
        "\n",
        "    def test_three_args_mixed(self):\n",
        "        s = \"import os\\nbase='root'\\nsub='data'\\np = os.path.join(base, sub, 'file.txt')\\n\"\n",
        "        out = self.l.patch(s)\n",
        "        self.assertIn(\"Path(base) / sub / 'file.txt'\", out)"
      ]
    },
    {
      "cell_type": "code",
      "execution_count": 21,
      "metadata": {
        "colab": {
          "base_uri": "https://localhost:8080/"
        },
        "id": "41Mz8Skw6F1X",
        "outputId": "85a57bf2-5694-4f66-9511-586bd6363020"
      },
      "outputs": [
        {
          "name": "stderr",
          "output_type": "stream",
          "text": [
            "......\n",
            "----------------------------------------------------------------------\n",
            "Ran 6 tests in 0.005s\n",
            "\n",
            "OK\n",
            ".....\n",
            "----------------------------------------------------------------------\n",
            "Ran 6 tests in 0.005s\n",
            "\n",
            "OK\n"
          ]
        }
      ],
      "source": [
        "runTests(TestOsPathJoinToPath)"
      ]
    },
    {
      "cell_type": "markdown",
      "metadata": {
        "id": "DO5kAlFxyq3z"
      },
      "source": [
        "## Real World Code"
      ]
    },
    {
      "cell_type": "code",
      "execution_count": 22,
      "metadata": {
        "id": "vtirjWsFzGU4"
      },
      "outputs": [],
      "source": [
        "def find_cell(comment):\n",
        "    \"\"\"\n",
        "    Busca la primera celda en el cuaderno actual cuya primera línea\n",
        "    comience con el comentario dado (por ejemplo, \"# Case Study 1\").\n",
        "\n",
        "    Parámetros:\n",
        "        comment (str): El comentario que se quiere buscar.\n",
        "\n",
        "    Retorna:\n",
        "        str | None: El código fuente de la celda encontrada, o None si no existe.\n",
        "    \"\"\"\n",
        "    for cell_source in In:  # `In` contiene el código fuente de todas las celdas ejecutadas\n",
        "        lines = cell_source.strip().splitlines()\n",
        "        if lines and lines[0].strip().startswith(comment):  # revisa la primera línea\n",
        "            return cell_source\n",
        "    return None"
      ]
    },
    {
      "cell_type": "code",
      "execution_count": 23,
      "metadata": {
        "id": "1WG1-4Fuy5fp"
      },
      "outputs": [],
      "source": [
        "# Case Study 1\n",
        "import os\n",
        "base = ''\n",
        "full = os.path.join(base, 'logs', '2025')\n",
        "\n",
        "# Dentro de una función\n",
        "def build_user_log(user):\n",
        "    return os.path.join('/var', 'log', user)\n",
        "\n",
        "# En un bucle\n",
        "paths = []\n",
        "for month in ['01','02','03']:\n",
        "    paths.append(os.path.join('/data', '2025', month))\n",
        "\n",
        "# Con variables y literales\n",
        "root = '/tmp'\n",
        "sub = 'cache'\n",
        "leaf = 'index.json'\n",
        "cache_file = os.path.join(root, sub, leaf)"
      ]
    },
    {
      "cell_type": "code",
      "execution_count": 24,
      "metadata": {
        "colab": {
          "base_uri": "https://localhost:8080/"
        },
        "id": "vxpVUzZk6F1Y",
        "outputId": "fe1dfd43-9894-423c-ba97-6f6457848dbe"
      },
      "outputs": [
        {
          "name": "stdout",
          "output_type": "stream",
          "text": [
            "-= Warnings =-\n",
            "CodeWarning(message='Use pathlib.Path en lugar de os.path.join', lineno=4, col=7, end_lineno=None, end_col=None)\n",
            "CodeWarning(message='Use pathlib.Path en lugar de os.path.join', lineno=9, col=11, end_lineno=None, end_col=None)\n",
            "CodeWarning(message='Use pathlib.Path en lugar de os.path.join', lineno=14, col=17, end_lineno=None, end_col=None)\n",
            "CodeWarning(message='Use pathlib.Path en lugar de os.path.join', lineno=20, col=13, end_lineno=None, end_col=None)\n",
            "-= Fixed Code =-\n",
            "from pathlib import Path\n",
            "import os\n",
            "base = ''\n",
            "full = Path(base) / 'logs' / '2025'\n",
            "\n",
            "def build_user_log(user):\n",
            "    return Path('/var') / 'log' / user\n",
            "paths = []\n",
            "for month in ['01', '02', '03']:\n",
            "    paths.append(Path('/data') / '2025' / month)\n",
            "root = '/tmp'\n",
            "sub = 'cache'\n",
            "leaf = 'index.json'\n",
            "cache_file = Path(root) / sub / leaf\n"
          ]
        }
      ],
      "source": [
        "linter = DCCLinter([OsPathJoinDetectionRule()], [OsPathJoinPatcher()])\n",
        "\n",
        "bad_code =  find_cell(\"# Case Study 1\")\n",
        "warnings = linter.search(bad_code)\n",
        "print(\"-= Warnings =-\")\n",
        "for w in warnings:\n",
        "    print(w)\n",
        "good_code = linter.patch(bad_code)\n",
        "print(\"-= Fixed Code =-\")\n",
        "print(good_code)"
      ]
    }
  ],
  "metadata": {
    "colab": {
      "provenance": []
    },
    "kernelspec": {
      "display_name": "Python 3",
      "name": "python3"
    },
    "language_info": {
      "codemirror_mode": {
        "name": "ipython",
        "version": 3
      },
      "file_extension": ".py",
      "mimetype": "text/x-python",
      "name": "python",
      "nbconvert_exporter": "python",
      "pygments_lexer": "ipython3",
      "version": "3.12.10"
    }
  },
  "nbformat": 4,
  "nbformat_minor": 0
}
