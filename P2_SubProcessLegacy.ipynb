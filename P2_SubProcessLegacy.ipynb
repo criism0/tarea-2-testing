{
  "cells": [
    {
      "cell_type": "markdown",
      "metadata": {
        "id": "ZEphjy9oyQ5k"
      },
      "source": [
        "# Run Test Method"
      ]
    },
    {
      "cell_type": "code",
      "execution_count": 8,
      "metadata": {
        "id": "E2HDKQuyyP81"
      },
      "outputs": [],
      "source": [
        "def runTests(testClass):\n",
        "    loader = unittest.TestLoader()\n",
        "    suite = loader.loadTestsFromTestCase(testClass)\n",
        "    runner = unittest.TextTestRunner()\n",
        "    runner.run(suite)"
      ]
    },
    {
      "cell_type": "markdown",
      "metadata": {
        "id": "913c4gvrxZGF"
      },
      "source": [
        "# Modelo"
      ]
    },
    {
      "cell_type": "code",
      "execution_count": 9,
      "metadata": {
        "id": "FKrjSd6lxKlO"
      },
      "outputs": [],
      "source": [
        "from __future__ import annotations\n",
        "import ast, sys\n",
        "from dataclasses import dataclass\n",
        "from typing import List, Iterable, Tuple, Optional\n",
        "\n",
        "@dataclass(frozen=True)\n",
        "class CodeWarning:\n",
        "    message: str\n",
        "    lineno: int\n",
        "    col: int\n",
        "    end_lineno: Optional[int] = None\n",
        "    end_col: Optional[int] = None\n",
        "\n",
        "class DetectionRule:\n",
        "    name: str = \"Generic Detector\"\n",
        "    def search(self, src: str) -> List[CodeWarning]:\n",
        "        raise NotImplementedError\n",
        "\n",
        "class Patcher:\n",
        "    name: str = \"Generic Patcher\"\n",
        "    def patch(self, tree: ast.Node) -> str:\n",
        "        raise NotImplementedError\n",
        "\n",
        "class DCCLinter:\n",
        "    def __init__(self, detectors: Iterable[DetectionRule], patchers: Iterable[Patcher]):\n",
        "        self.detectors = detectors\n",
        "        self.patchers = patchers\n",
        "\n",
        "    def search(self, src: str) -> List[CodeWarning]:\n",
        "        out: List[CodeWarning] = []\n",
        "        for d in self.detectors:\n",
        "            out.extend(d.search(src))\n",
        "        return sorted(out, key=lambda w: (w.lineno, w.col))\n",
        "\n",
        "    def patch(self, src: str) -> str:\n",
        "        tree = ast.parse(src)\n",
        "        for p in self.patchers:\n",
        "          tree = p.patch(tree)\n",
        "        return ast.unparse(tree)"
      ]
    },
    {
      "cell_type": "markdown",
      "metadata": {
        "id": "ks-AFIIdxpdS"
      },
      "source": [
        "# None Compares\n",
        "\n",
        "## Detector"
      ]
    },
    {
      "cell_type": "code",
      "execution_count": 10,
      "metadata": {
        "id": "Rw5uSdokxr7x"
      },
      "outputs": [],
      "source": [
        "class SubprocessDetectionRule(DetectionRule):\n",
        "    name = \"Detect subprocess.call/check_call o os.system\"\n",
        "\n",
        "    def search(self, src: str) -> List[CodeWarning]:\n",
        "        # Se ajustaron patrones a subprocess/os.\n",
        "        tree = ast.parse(src)\n",
        "        warns: List[CodeWarning] = []\n",
        "        for node in ast.walk(tree):\n",
        "            if isinstance(node, ast.Call) and isinstance(node.func, ast.Attribute):\n",
        "                base = node.func.value\n",
        "                if isinstance(base, ast.Name) and base.id == 'subprocess' and node.func.attr in ('call','check_call'):\n",
        "                    warns.append(CodeWarning(f\"Use subprocess.run en lugar de subprocess.{node.func.attr}\", node.lineno, node.col_offset))\n",
        "                if isinstance(base, ast.Name) and base.id == 'os' and node.func.attr == 'system':\n",
        "                    warns.append(CodeWarning(\"Use subprocess.run en lugar de os.system\", node.lineno, node.col_offset))\n",
        "        return warns"
      ]
    },
    {
      "cell_type": "markdown",
      "metadata": {
        "id": "NklEm1uzxxij"
      },
      "source": [
        "## Patcher"
      ]
    },
    {
      "cell_type": "code",
      "execution_count": 11,
      "metadata": {
        "id": "T4O8O3xmxyjT"
      },
      "outputs": [],
      "source": [
        "class SubprocessPatcher(Patcher):\n",
        "    name = \"Fix to subprocess.run([...], check=True)\"\n",
        "\n",
        "    def patch(self, tree: ast.AST) -> ast.AST:\n",
        "        # Reescribe call/check_call/os.system a run(..., check=True).\n",
        "        for node in ast.walk(tree):\n",
        "            if isinstance(node, ast.Call) and isinstance(node.func, ast.Attribute):\n",
        "                if node.func.attr in ('call','check_call'):\n",
        "                    node.func.attr = 'run'\n",
        "                    node.keywords = [ast.keyword(arg='check', value=ast.Constant(True))]\n",
        "                elif node.func.attr == 'system' and isinstance(node.func.value, ast.Name) and node.func.value.id == 'os':\n",
        "                    node.func.value.id = 'subprocess'\n",
        "                    node.func.attr = 'run'\n",
        "                    node.keywords = [\n",
        "                        ast.keyword(arg='shell', value=ast.Constant(True)),\n",
        "                        ast.keyword(arg='check', value=ast.Constant(True))\n",
        "                    ]\n",
        "        return tree"
      ]
    },
    {
      "cell_type": "markdown",
      "metadata": {
        "id": "ZUyTU0vnx_2_"
      },
      "source": [
        "## Tests"
      ]
    },
    {
      "cell_type": "code",
      "execution_count": 12,
      "metadata": {
        "id": "VquoUQmYyBgN"
      },
      "outputs": [],
      "source": [
        "import unittest\n",
        "\n",
        "class TestSubprocessModernize(unittest.TestCase):\n",
        "    def setUp(self):\n",
        "        self.l = DCCLinter([SubprocessDetectionRule()], [SubprocessPatcher()])\n",
        "\n",
        "    def test_detect(self):\n",
        "        s = \"import subprocess\\nsubprocess.call(['echo','hi'])\\n\"\n",
        "        ws = self.l.search(s)\n",
        "        self.assertEqual(len(ws), 1)\n",
        "\n",
        "    def test_patch_call(self):\n",
        "        s = \"import subprocess\\nsubprocess.call(['echo','hi'])\\n\"\n",
        "        out = self.l.patch(s)\n",
        "        self.assertIn(\"subprocess.run(['echo', 'hi'], check=True)\", out)\n",
        "\n",
        "    def test_patch_os_system(self):\n",
        "        s = \"import os, subprocess\\nos.system('echo hi')\\n\"\n",
        "        out = self.l.patch(s)\n",
        "        self.assertIn(\"subprocess.run('echo hi', shell=True, check=True)\", out)\n",
        "\n",
        "    # Tests Extra\n",
        "    def test_patch_check_call(self):\n",
        "        s = \"import subprocess\\nsubprocess.check_call(['echo','hi'])\\n\"\n",
        "        out = self.l.patch(s)\n",
        "        self.assertIn(\"subprocess.run(['echo', 'hi'], check=True)\", out)\n",
        "\n",
        "    def test_no_warning_for_run(self):\n",
        "        s = \"import subprocess\\nsubprocess.run(['echo','hi'])\\n\"\n",
        "        ws = self.l.search(s)\n",
        "        self.assertEqual(len(ws), 0)\n",
        "\n",
        "    def test_detect_multiple(self):\n",
        "        s = (\n",
        "            \"import os, subprocess\\n\"\n",
        "            \"subprocess.call(['echo','a'])\\n\"\n",
        "            \"os.system('echo b')\\n\"\n",
        "        )\n",
        "        ws = self.l.search(s)\n",
        "        self.assertEqual(len(ws), 2)"
      ]
    },
    {
      "cell_type": "code",
      "execution_count": 13,
      "metadata": {
        "colab": {
          "base_uri": "https://localhost:8080/"
        },
        "id": "VE9PsgiyyX08",
        "outputId": "d64ddf42-120b-4f10-ab44-1338daf7eeec"
      },
      "outputs": [
        {
          "name": "stderr",
          "output_type": "stream",
          "text": [
            "......\n",
            "----------------------------------------------------------------------\n",
            "Ran 6 tests in 0.007s\n",
            "\n",
            "OK\n",
            ".....\n",
            "----------------------------------------------------------------------\n",
            "Ran 6 tests in 0.007s\n",
            "\n",
            "OK\n"
          ]
        }
      ],
      "source": [
        "runTests(TestSubprocessModernize)"
      ]
    },
    {
      "cell_type": "markdown",
      "metadata": {
        "id": "DO5kAlFxyq3z"
      },
      "source": [
        "## Real World Code"
      ]
    },
    {
      "cell_type": "code",
      "execution_count": 14,
      "metadata": {
        "id": "vtirjWsFzGU4"
      },
      "outputs": [],
      "source": [
        "def find_cell(comment):\n",
        "    \"\"\"\n",
        "    Busca la primera celda en el cuaderno actual cuya primera línea\n",
        "    comience con el comentario dado (por ejemplo, \"# Case Study 1\").\n",
        "\n",
        "    Parámetros:\n",
        "        comment (str): El comentario que se quiere buscar.\n",
        "\n",
        "    Retorna:\n",
        "        str | None: El código fuente de la celda encontrada, o None si no existe.\n",
        "    \"\"\"\n",
        "    for cell_source in In:  # `In` contiene el código fuente de todas las celdas ejecutadas\n",
        "        lines = cell_source.strip().splitlines()\n",
        "        if lines and lines[0].strip().startswith(comment):  # revisa la primera línea\n",
        "            return cell_source\n",
        "    return None"
      ]
    },
    {
      "cell_type": "code",
      "execution_count": 15,
      "metadata": {
        "colab": {
          "base_uri": "https://localhost:8080/"
        },
        "id": "1WG1-4Fuy5fp",
        "outputId": "f6f23b07-3942-4760-afcf-4180cb217289"
      },
      "outputs": [
        {
          "ename": "FileNotFoundError",
          "evalue": "[WinError 2] El sistema no puede encontrar el archivo especificado",
          "output_type": "error",
          "traceback": [
            "\u001b[31m---------------------------------------------------------------------------\u001b[39m",
            "\u001b[31mFileNotFoundError\u001b[39m                         Traceback (most recent call last)",
            "\u001b[36mCell\u001b[39m\u001b[36m \u001b[39m\u001b[32mIn[15]\u001b[39m\u001b[32m, line 3\u001b[39m\n\u001b[32m      1\u001b[39m \u001b[38;5;66;03m# Case Study 1\u001b[39;00m\n\u001b[32m      2\u001b[39m \u001b[38;5;28;01mimport\u001b[39;00m\u001b[38;5;250m \u001b[39m\u001b[34;01mos\u001b[39;00m,\u001b[38;5;250m \u001b[39m\u001b[34;01msubprocess\u001b[39;00m\n\u001b[32m----> \u001b[39m\u001b[32m3\u001b[39m \u001b[43msubprocess\u001b[49m\u001b[43m.\u001b[49m\u001b[43mcheck_call\u001b[49m\u001b[43m(\u001b[49m\u001b[43m[\u001b[49m\u001b[33;43m'\u001b[39;49m\u001b[33;43mls\u001b[39;49m\u001b[33;43m'\u001b[39;49m\u001b[43m,\u001b[49m\u001b[33;43m'\u001b[39;49m\u001b[33;43m-la\u001b[39;49m\u001b[33;43m'\u001b[39;49m\u001b[43m]\u001b[49m\u001b[43m)\u001b[49m\n\u001b[32m      4\u001b[39m os.system(\u001b[33m'\u001b[39m\u001b[33mecho hi\u001b[39m\u001b[33m'\u001b[39m)\n\u001b[32m      7\u001b[39m \u001b[38;5;66;03m# Otra llamada heredada\u001b[39;00m\n",
            "\u001b[36mFile \u001b[39m\u001b[32mC:\\Program Files\\WindowsApps\\PythonSoftwareFoundation.Python.3.12_3.12.2800.0_x64__qbz5n2kfra8p0\\Lib\\subprocess.py:408\u001b[39m, in \u001b[36mcheck_call\u001b[39m\u001b[34m(*popenargs, **kwargs)\u001b[39m\n\u001b[32m    398\u001b[39m \u001b[38;5;28;01mdef\u001b[39;00m\u001b[38;5;250m \u001b[39m\u001b[34mcheck_call\u001b[39m(*popenargs, **kwargs):\n\u001b[32m    399\u001b[39m \u001b[38;5;250m    \u001b[39m\u001b[33;03m\"\"\"Run command with arguments.  Wait for command to complete.  If\u001b[39;00m\n\u001b[32m    400\u001b[39m \u001b[33;03m    the exit code was zero then return, otherwise raise\u001b[39;00m\n\u001b[32m    401\u001b[39m \u001b[33;03m    CalledProcessError.  The CalledProcessError object will have the\u001b[39;00m\n\u001b[32m   (...)\u001b[39m\u001b[32m    406\u001b[39m \u001b[33;03m    check_call([\"ls\", \"-l\"])\u001b[39;00m\n\u001b[32m    407\u001b[39m \u001b[33;03m    \"\"\"\u001b[39;00m\n\u001b[32m--> \u001b[39m\u001b[32m408\u001b[39m     retcode = \u001b[43mcall\u001b[49m\u001b[43m(\u001b[49m\u001b[43m*\u001b[49m\u001b[43mpopenargs\u001b[49m\u001b[43m,\u001b[49m\u001b[43m \u001b[49m\u001b[43m*\u001b[49m\u001b[43m*\u001b[49m\u001b[43mkwargs\u001b[49m\u001b[43m)\u001b[49m\n\u001b[32m    409\u001b[39m     \u001b[38;5;28;01mif\u001b[39;00m retcode:\n\u001b[32m    410\u001b[39m         cmd = kwargs.get(\u001b[33m\"\u001b[39m\u001b[33margs\u001b[39m\u001b[33m\"\u001b[39m)\n",
            "\u001b[36mFile \u001b[39m\u001b[32mC:\\Program Files\\WindowsApps\\PythonSoftwareFoundation.Python.3.12_3.12.2800.0_x64__qbz5n2kfra8p0\\Lib\\subprocess.py:389\u001b[39m, in \u001b[36mcall\u001b[39m\u001b[34m(timeout, *popenargs, **kwargs)\u001b[39m\n\u001b[32m    381\u001b[39m \u001b[38;5;28;01mdef\u001b[39;00m\u001b[38;5;250m \u001b[39m\u001b[34mcall\u001b[39m(*popenargs, timeout=\u001b[38;5;28;01mNone\u001b[39;00m, **kwargs):\n\u001b[32m    382\u001b[39m \u001b[38;5;250m    \u001b[39m\u001b[33;03m\"\"\"Run command with arguments.  Wait for command to complete or\u001b[39;00m\n\u001b[32m    383\u001b[39m \u001b[33;03m    for timeout seconds, then return the returncode attribute.\u001b[39;00m\n\u001b[32m    384\u001b[39m \n\u001b[32m   (...)\u001b[39m\u001b[32m    387\u001b[39m \u001b[33;03m    retcode = call([\"ls\", \"-l\"])\u001b[39;00m\n\u001b[32m    388\u001b[39m \u001b[33;03m    \"\"\"\u001b[39;00m\n\u001b[32m--> \u001b[39m\u001b[32m389\u001b[39m     \u001b[38;5;28;01mwith\u001b[39;00m \u001b[43mPopen\u001b[49m\u001b[43m(\u001b[49m\u001b[43m*\u001b[49m\u001b[43mpopenargs\u001b[49m\u001b[43m,\u001b[49m\u001b[43m \u001b[49m\u001b[43m*\u001b[49m\u001b[43m*\u001b[49m\u001b[43mkwargs\u001b[49m\u001b[43m)\u001b[49m \u001b[38;5;28;01mas\u001b[39;00m p:\n\u001b[32m    390\u001b[39m         \u001b[38;5;28;01mtry\u001b[39;00m:\n\u001b[32m    391\u001b[39m             \u001b[38;5;28;01mreturn\u001b[39;00m p.wait(timeout=timeout)\n",
            "\u001b[36mFile \u001b[39m\u001b[32mC:\\Program Files\\WindowsApps\\PythonSoftwareFoundation.Python.3.12_3.12.2800.0_x64__qbz5n2kfra8p0\\Lib\\subprocess.py:1026\u001b[39m, in \u001b[36mPopen.__init__\u001b[39m\u001b[34m(self, args, bufsize, executable, stdin, stdout, stderr, preexec_fn, close_fds, shell, cwd, env, universal_newlines, startupinfo, creationflags, restore_signals, start_new_session, pass_fds, user, group, extra_groups, encoding, errors, text, umask, pipesize, process_group)\u001b[39m\n\u001b[32m   1022\u001b[39m         \u001b[38;5;28;01mif\u001b[39;00m \u001b[38;5;28mself\u001b[39m.text_mode:\n\u001b[32m   1023\u001b[39m             \u001b[38;5;28mself\u001b[39m.stderr = io.TextIOWrapper(\u001b[38;5;28mself\u001b[39m.stderr,\n\u001b[32m   1024\u001b[39m                     encoding=encoding, errors=errors)\n\u001b[32m-> \u001b[39m\u001b[32m1026\u001b[39m     \u001b[38;5;28;43mself\u001b[39;49m\u001b[43m.\u001b[49m\u001b[43m_execute_child\u001b[49m\u001b[43m(\u001b[49m\u001b[43margs\u001b[49m\u001b[43m,\u001b[49m\u001b[43m \u001b[49m\u001b[43mexecutable\u001b[49m\u001b[43m,\u001b[49m\u001b[43m \u001b[49m\u001b[43mpreexec_fn\u001b[49m\u001b[43m,\u001b[49m\u001b[43m \u001b[49m\u001b[43mclose_fds\u001b[49m\u001b[43m,\u001b[49m\n\u001b[32m   1027\u001b[39m \u001b[43m                        \u001b[49m\u001b[43mpass_fds\u001b[49m\u001b[43m,\u001b[49m\u001b[43m \u001b[49m\u001b[43mcwd\u001b[49m\u001b[43m,\u001b[49m\u001b[43m \u001b[49m\u001b[43menv\u001b[49m\u001b[43m,\u001b[49m\n\u001b[32m   1028\u001b[39m \u001b[43m                        \u001b[49m\u001b[43mstartupinfo\u001b[49m\u001b[43m,\u001b[49m\u001b[43m \u001b[49m\u001b[43mcreationflags\u001b[49m\u001b[43m,\u001b[49m\u001b[43m \u001b[49m\u001b[43mshell\u001b[49m\u001b[43m,\u001b[49m\n\u001b[32m   1029\u001b[39m \u001b[43m                        \u001b[49m\u001b[43mp2cread\u001b[49m\u001b[43m,\u001b[49m\u001b[43m \u001b[49m\u001b[43mp2cwrite\u001b[49m\u001b[43m,\u001b[49m\n\u001b[32m   1030\u001b[39m \u001b[43m                        \u001b[49m\u001b[43mc2pread\u001b[49m\u001b[43m,\u001b[49m\u001b[43m \u001b[49m\u001b[43mc2pwrite\u001b[49m\u001b[43m,\u001b[49m\n\u001b[32m   1031\u001b[39m \u001b[43m                        \u001b[49m\u001b[43merrread\u001b[49m\u001b[43m,\u001b[49m\u001b[43m \u001b[49m\u001b[43merrwrite\u001b[49m\u001b[43m,\u001b[49m\n\u001b[32m   1032\u001b[39m \u001b[43m                        \u001b[49m\u001b[43mrestore_signals\u001b[49m\u001b[43m,\u001b[49m\n\u001b[32m   1033\u001b[39m \u001b[43m                        \u001b[49m\u001b[43mgid\u001b[49m\u001b[43m,\u001b[49m\u001b[43m \u001b[49m\u001b[43mgids\u001b[49m\u001b[43m,\u001b[49m\u001b[43m \u001b[49m\u001b[43muid\u001b[49m\u001b[43m,\u001b[49m\u001b[43m \u001b[49m\u001b[43mumask\u001b[49m\u001b[43m,\u001b[49m\n\u001b[32m   1034\u001b[39m \u001b[43m                        \u001b[49m\u001b[43mstart_new_session\u001b[49m\u001b[43m,\u001b[49m\u001b[43m \u001b[49m\u001b[43mprocess_group\u001b[49m\u001b[43m)\u001b[49m\n\u001b[32m   1035\u001b[39m \u001b[38;5;28;01mexcept\u001b[39;00m:\n\u001b[32m   1036\u001b[39m     \u001b[38;5;66;03m# Cleanup if the child failed starting.\u001b[39;00m\n\u001b[32m   1037\u001b[39m     \u001b[38;5;28;01mfor\u001b[39;00m f \u001b[38;5;129;01min\u001b[39;00m \u001b[38;5;28mfilter\u001b[39m(\u001b[38;5;28;01mNone\u001b[39;00m, (\u001b[38;5;28mself\u001b[39m.stdin, \u001b[38;5;28mself\u001b[39m.stdout, \u001b[38;5;28mself\u001b[39m.stderr)):\n",
            "\u001b[36mFile \u001b[39m\u001b[32mC:\\Program Files\\WindowsApps\\PythonSoftwareFoundation.Python.3.12_3.12.2800.0_x64__qbz5n2kfra8p0\\Lib\\subprocess.py:1538\u001b[39m, in \u001b[36mPopen._execute_child\u001b[39m\u001b[34m(self, args, executable, preexec_fn, close_fds, pass_fds, cwd, env, startupinfo, creationflags, shell, p2cread, p2cwrite, c2pread, c2pwrite, errread, errwrite, unused_restore_signals, unused_gid, unused_gids, unused_uid, unused_umask, unused_start_new_session, unused_process_group)\u001b[39m\n\u001b[32m   1536\u001b[39m \u001b[38;5;66;03m# Start the process\u001b[39;00m\n\u001b[32m   1537\u001b[39m \u001b[38;5;28;01mtry\u001b[39;00m:\n\u001b[32m-> \u001b[39m\u001b[32m1538\u001b[39m     hp, ht, pid, tid = \u001b[43m_winapi\u001b[49m\u001b[43m.\u001b[49m\u001b[43mCreateProcess\u001b[49m\u001b[43m(\u001b[49m\u001b[43mexecutable\u001b[49m\u001b[43m,\u001b[49m\u001b[43m \u001b[49m\u001b[43margs\u001b[49m\u001b[43m,\u001b[49m\n\u001b[32m   1539\u001b[39m \u001b[43m                             \u001b[49m\u001b[38;5;66;43;03m# no special security\u001b[39;49;00m\n\u001b[32m   1540\u001b[39m \u001b[43m                             \u001b[49m\u001b[38;5;28;43;01mNone\u001b[39;49;00m\u001b[43m,\u001b[49m\u001b[43m \u001b[49m\u001b[38;5;28;43;01mNone\u001b[39;49;00m\u001b[43m,\u001b[49m\n\u001b[32m   1541\u001b[39m \u001b[43m                             \u001b[49m\u001b[38;5;28;43mint\u001b[39;49m\u001b[43m(\u001b[49m\u001b[38;5;129;43;01mnot\u001b[39;49;00m\u001b[43m \u001b[49m\u001b[43mclose_fds\u001b[49m\u001b[43m)\u001b[49m\u001b[43m,\u001b[49m\n\u001b[32m   1542\u001b[39m \u001b[43m                             \u001b[49m\u001b[43mcreationflags\u001b[49m\u001b[43m,\u001b[49m\n\u001b[32m   1543\u001b[39m \u001b[43m                             \u001b[49m\u001b[43menv\u001b[49m\u001b[43m,\u001b[49m\n\u001b[32m   1544\u001b[39m \u001b[43m                             \u001b[49m\u001b[43mcwd\u001b[49m\u001b[43m,\u001b[49m\n\u001b[32m   1545\u001b[39m \u001b[43m                             \u001b[49m\u001b[43mstartupinfo\u001b[49m\u001b[43m)\u001b[49m\n\u001b[32m   1546\u001b[39m \u001b[38;5;28;01mfinally\u001b[39;00m:\n\u001b[32m   1547\u001b[39m     \u001b[38;5;66;03m# Child is launched. Close the parent's copy of those pipe\u001b[39;00m\n\u001b[32m   1548\u001b[39m     \u001b[38;5;66;03m# handles that only the child should have open.  You need\u001b[39;00m\n\u001b[32m   (...)\u001b[39m\u001b[32m   1551\u001b[39m     \u001b[38;5;66;03m# pipe will not close when the child process exits and the\u001b[39;00m\n\u001b[32m   1552\u001b[39m     \u001b[38;5;66;03m# ReadFile will hang.\u001b[39;00m\n\u001b[32m   1553\u001b[39m     \u001b[38;5;28mself\u001b[39m._close_pipe_fds(p2cread, p2cwrite,\n\u001b[32m   1554\u001b[39m                          c2pread, c2pwrite,\n\u001b[32m   1555\u001b[39m                          errread, errwrite)\n",
            "\u001b[31mFileNotFoundError\u001b[39m: [WinError 2] El sistema no puede encontrar el archivo especificado"
          ]
        }
      ],
      "source": [
        "# Case Study 1\n",
        "import os, subprocess\n",
        "subprocess.check_call(['ls','-la'])\n",
        "os.system('echo hi')\n",
        "\n",
        "\n",
        "# Otra llamada heredada\n",
        "subprocess.call(['echo','bye'])\n",
        "\n",
        "# Dentro de un if\n",
        "if True:\n",
        "    os.system('echo inside-if')\n",
        "\n",
        "# Dentro de una función\n",
        "def run_legacy():\n",
        "    subprocess.check_call(['echo','from-function'])\n"
      ]
    },
    {
      "cell_type": "code",
      "execution_count": null,
      "metadata": {
        "colab": {
          "base_uri": "https://localhost:8080/"
        },
        "id": "sl4rDiRS0bYn",
        "outputId": "2b76e478-e726-4015-d7f9-07f7c3ebb82d"
      },
      "outputs": [
        {
          "name": "stdout",
          "output_type": "stream",
          "text": [
            "-= Warnings =-\n",
            "CodeWarning(message='Use subprocess.run en lugar de subprocess.check_call', lineno=3, col=0, end_lineno=None, end_col=None)\n",
            "CodeWarning(message='Use subprocess.run en lugar de os.system', lineno=4, col=0, end_lineno=None, end_col=None)\n",
            "-= Fixed Code =-\n",
            "import os, subprocess\n",
            "subprocess.run(['ls', '-la'], check=True)\n",
            "subprocess.run('echo hi', shell=True, check=True)\n"
          ]
        }
      ],
      "source": [
        "linter = DCCLinter([SubprocessDetectionRule()],[SubprocessPatcher()])\n",
        "\n",
        "bad_code =  find_cell(\"# Case Study 1\")\n",
        "warnings = linter.search(bad_code)\n",
        "print(\"-= Warnings =-\")\n",
        "for w in warnings:\n",
        "    print(w)\n",
        "good_code = linter.patch(bad_code)\n",
        "print(\"-= Fixed Code =-\")\n",
        "print(good_code)"
      ]
    }
  ],
  "metadata": {
    "colab": {
      "provenance": []
    },
    "kernelspec": {
      "display_name": "Python 3",
      "name": "python3"
    },
    "language_info": {
      "codemirror_mode": {
        "name": "ipython",
        "version": 3
      },
      "file_extension": ".py",
      "mimetype": "text/x-python",
      "name": "python",
      "nbconvert_exporter": "python",
      "pygments_lexer": "ipython3",
      "version": "3.12.10"
    }
  },
  "nbformat": 4,
  "nbformat_minor": 0
}
